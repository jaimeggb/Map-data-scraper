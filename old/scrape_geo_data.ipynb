{
 "cells": [
  {
   "cell_type": "code",
   "execution_count": 68,
   "metadata": {},
   "outputs": [],
   "source": [
    "import requests\n",
    "\n",
    "bL_lat = -8.84892992\n",
    "bL_lon = 35.74657448\n",
    "tR_lat = 6.49954908\n",
    "tR_lon = 44.78973632\n",
    "\n",
    "def get_data_from_api(bL_lat, bL_lon, tR_lat, tR_lon):\n",
    "    headers = {\n",
    "        'Connection': 'keep-alive',\n",
    "        'sec-ch-ua': '\"Google Chrome\";v=\"93\", \" Not;A Brand\";v=\"99\", \"Chromium\";v=\"93\"',\n",
    "        'sec-ch-ua-mobile': '?0',\n",
    "        'User-Agent': 'Mozilla/5.0 (Windows NT 10.0; Win64; x64) AppleWebKit/537.36 (KHTML, like Gecko) Chrome/93.0.4577.82 Safari/537.36',\n",
    "        'sec-ch-ua-platform': '\"Windows\"',\n",
    "        'Accept': '*/*',\n",
    "        'Sec-Fetch-Site': 'same-origin',\n",
    "        'Sec-Fetch-Mode': 'cors',\n",
    "        'Sec-Fetch-Dest': 'empty',\n",
    "        'Referer': 'https://geoportal.minetur.gob.es/VCTEL/vcne.do',\n",
    "        'Accept-Language': 'en-GB-oxendict,en;q=0.9,es-ES;q=0.8,es;q=0.7',\n",
    "    }\n",
    "    params = (\n",
    "        ('idCapa', 'null'),\n",
    "        ('bbox', f'{bL_lat}, {bL_lon}, {tR_lat}, {tR_lon}'), \n",
    "        #These coordinates go from the bottom left of the canary islands \n",
    "        # to the top right of Spain and the balearic islands, ensuring we \n",
    "        # capture all mobile towers in a single API call\n",
    "        ('zoom', '4'),\n",
    "    )\n",
    "    response = requests.get('https://geoportal.minetur.gob.es/VCTEL/infoantenasGeoJSON.do', headers=headers, params=params)\n",
    "    return response.json()\n"
   ]
  },
  {
   "cell_type": "code",
   "execution_count": null,
   "metadata": {},
   "outputs": [],
   "source": [
    "def scrape_data_from_given_area(start_lat, start_lon, end_lat, end_lon, lat_jump, lon_jump):\n",
    "    current_lat = start_lat\n",
    "    current_lon = start_lon\n",
    "    accum_data = []\n",
    "    while current_lon < end_lon\n",
    "        while current_lat < end_lat\n",
    "            \n",
    "            accum_data.append(get_data_from_api(current_lat, current_lon, current_lat + lat_jump, current_lon + lon_jump))\n",
    "            current_lat += lat_jump\n",
    "        current_lon += lon_jump\n",
    "    return accum_data\n"
   ]
  },
  {
   "cell_type": "code",
   "execution_count": null,
   "metadata": {},
   "outputs": [],
   "source": [
    "mobile_towers_data = get_data_from_api_3()\n",
    "#len(mobile_towers_data['features'])\n",
    "jsondata = mobile_towers_data['features']\n",
    "#jsondata[0]"
   ]
  },
  {
   "cell_type": "code",
   "execution_count": 69,
   "metadata": {},
   "outputs": [],
   "source": [
    "#Create and open csv file with the useful data retrieved\n",
    "import csv\n",
    "import os\n",
    "\n",
    "data_file = open('jsonoutput.csv', 'w', newline='')\n",
    "csv_writer = csv.writer(data_file)\n",
    " \n",
    "count = 0\n",
    "for data in jsondata:\n",
    "    if count == 0:\n",
    "        header = data['properties'].keys()\n",
    "        csv_writer.writerow(header)\n",
    "        count += 1\n",
    "    csv_writer.writerow(data['properties'].values())\n",
    " \n",
    "os.startfile(\"jsonoutput.csv\")\n",
    "data_file.close()"
   ]
  },
  {
   "cell_type": "code",
   "execution_count": null,
   "metadata": {},
   "outputs": [],
   "source": []
  }
 ],
 "metadata": {
  "kernelspec": {
   "display_name": "Python 3",
   "language": "python",
   "name": "python3"
  },
  "language_info": {
   "codemirror_mode": {
    "name": "ipython",
    "version": 3
   },
   "file_extension": ".py",
   "mimetype": "text/x-python",
   "name": "python",
   "nbconvert_exporter": "python",
   "pygments_lexer": "ipython3",
   "version": "3.7.9"
  }
 },
 "nbformat": 4,
 "nbformat_minor": 5
}
