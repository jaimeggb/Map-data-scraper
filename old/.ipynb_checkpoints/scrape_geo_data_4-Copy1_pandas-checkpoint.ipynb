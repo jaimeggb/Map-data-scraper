{
 "cells": [
  {
   "cell_type": "code",
   "execution_count": 35,
   "id": "3368f039",
   "metadata": {},
   "outputs": [],
   "source": [
    "import requests\n",
    "import time\n",
    "import pandas as pd\n",
    "import numpy as np\n",
    "\n",
    "# bL_lat = -8.84892992\n",
    "# bL_lon = 35.74657448\n",
    "# tR_lat = 6.49954908\n",
    "# tR_lon = 44.78973632\n",
    "#These coordinates go from the bottom left of the canary islands \n",
    "# to the top right of Spain and the balearic islands, ensuring we \n",
    "# capture all mobile towers in a single API call\n",
    "\n",
    "def get_data_from_api(bL_lat, bL_lon, tR_lat, tR_lon):\n",
    "    headers = {\n",
    "        'Connection': 'keep-alive',\n",
    "        'sec-ch-ua': '\"Google Chrome\";v=\"93\", \" Not;A Brand\";v=\"99\", \"Chromium\";v=\"93\"',\n",
    "        'sec-ch-ua-mobile': '?0',\n",
    "        'User-Agent': 'Mozilla/5.0 (Windows NT 10.0; Win64; x64) AppleWebKit/537.36 (KHTML, like Gecko) Chrome/93.0.4577.82 Safari/537.36',\n",
    "        'sec-ch-ua-platform': '\"Windows\"',\n",
    "        'Accept': '*/*',\n",
    "        'Sec-Fetch-Site': 'same-origin',\n",
    "        'Sec-Fetch-Mode': 'cors',\n",
    "        'Sec-Fetch-Dest': 'empty',\n",
    "        'Referer': 'https://geoportal.minetur.gob.es/VCTEL/vcne.do',\n",
    "        'Accept-Language': 'en-GB-oxendict,en;q=0.9,es-ES;q=0.8,es;q=0.7',\n",
    "    }\n",
    "    params = (\n",
    "        ('idCapa', 'null'),\n",
    "        ('bbox', f'{bL_lat}, {bL_lon}, {tR_lat}, {tR_lon}'), \n",
    "        ('zoom', '4'),\n",
    "    )\n",
    "    response = requests.get('https://geoportal.minetur.gob.es/VCTEL/infoantenasGeoJSON.do', headers=headers, params=params)\n",
    "    return pd.Series(response.json())"
   ]
  },
  {
   "cell_type": "code",
   "execution_count": 36,
   "id": "2e3e7650",
   "metadata": {},
   "outputs": [],
   "source": [
    "def scrape_data_from_given_area(start_lat, start_lon, end_lat, end_lon, lat_jump, lon_jump):\n",
    "    current_lat = start_lat\n",
    "    current_lon = start_lon\n",
    "    accum_data = pd.Series() \n",
    "    start_time = time.time()\n",
    "    errorAt = pd.Series()\n",
    "    while current_lon < end_lon:\n",
    "        while current_lat < end_lat:\n",
    "            a = get_data_from_api(current_lat, current_lon, current_lat + lat_jump, current_lon + lon_jump)\n",
    "            print(current_lat, current_lon, end='\\r')\n",
    "            if a.empty == False:\n",
    "                try:\n",
    "                    print(a, end='\\r')\n",
    "                    accum_data.append(get_data_from_api(current_lat, current_lon, current_lat + lat_jump, current_lon + lon_jump), ignore_index=False, verify_integrity=False)\n",
    "                except:\n",
    "                    errorAt.append([current_lat, current_lon])\n",
    "                    pass\n",
    "            current_lat += lat_jump\n",
    "        pcg_cmn_dec = round((current_lon - start_lon+0.1) / (end_lon - start_lon),2)\n",
    "        pcg_cmn_str = str(pcg_cmn_dec*100) + '%'\n",
    "        current_time = time.time()\n",
    "        elapsed_time_hrs = (current_time+0.001 - start_time)/60/60\n",
    "        time_left_hrs = (elapsed_time_hrs / pcg_cmn_dec)\n",
    "        print(pcg_cmn_str, str(round(time_left_hrs,2))+'hrs left')\n",
    "        current_lat = start_lat\n",
    "        current_lon += lon_jump\n",
    "    return accum_data"
   ]
  },
  {
   "cell_type": "code",
   "execution_count": null,
   "id": "d3f4b10f",
   "metadata": {},
   "outputs": [
    {
     "name": "stderr",
     "output_type": "stream",
     "text": [
      "<ipython-input-36-5f40cedd8c93>:4: DeprecationWarning: The default dtype for empty Series will be 'object' instead of 'float64' in a future version. Specify a dtype explicitly to silence this warning.\n",
      "  accum_data = pd.Series()\n",
      "<ipython-input-36-5f40cedd8c93>:6: DeprecationWarning: The default dtype for empty Series will be 'object' instead of 'float64' in a future version. Specify a dtype explicitly to silence this warning.\n",
      "  errorAt = pd.Series()\n",
      "<ipython-input-35-77ee9258189c>:34: DeprecationWarning: The default dtype for empty Series will be 'object' instead of 'float64' in a future version. Specify a dtype explicitly to silence this warning.\n",
      "  return pd.Series(response.json())\n"
     ]
    },
    {
     "name": "stdout",
     "output_type": "stream",
     "text": [
      "type                                        FeatureCollection\n",
      "features    [{'type': 'Feature', 'geometry': {'type': 'Poi...\n",
      "type                                        FeatureCollection\n",
      "features    [{'type': 'Feature', 'geometry': {'type': 'Poi...\n",
      "1.0% 2.04hrs left 35.8465744799999944444\n",
      "type                                        FeatureCollection\n",
      "features    [{'type': 'Feature', 'geometry': {'type': 'Poi...\n",
      "type                                        FeatureCollection\n",
      "features    [{'type': 'Feature', 'geometry': {'type': 'Poi...\n",
      "2.0% 2.41hrs left 35.896574479999999999\n",
      "-1.8489299200000096 35.94657447999999\r"
     ]
    }
   ],
   "source": [
    "start_lat = -8.84892992\n",
    "start_lon = 35.846574479999994\n",
    "end_lat = 6.49954908\n",
    "end_lon = 43.69657447999955 #new end_lon (altura punto mas alto de españa, en galicia)\n",
    "lat_jump = 0.05\n",
    "lon_jump = 0.05\n",
    "# jumps=0.5 --> 55,779 mobile towers\n",
    "# jumps=0.4 --> 57,958 mobile towers\n",
    "# jumps=0.35 --> 58,116 mobile towers\n",
    "# jumps=0.3 --> 59,561 mobile towers\n",
    "# jumps=0.2 --> 62,072 mobile towers\n",
    "# jumps=0.1 --> 65,252 mobile towers\n",
    "# jumps=0.05 --> never managed to do the whole thing without an error, but 65.000 is better than what AM got. \n",
    "# When you learn how to save stuff in SQL database try this again, it will restart each time where you left off!\n",
    "\n",
    "mobile_towers_data = scrape_data_from_given_area(start_lat, start_lon, end_lat, end_lon, lat_jump, lon_jump)"
   ]
  },
  {
   "cell_type": "code",
   "execution_count": 8,
   "id": "8934e73d",
   "metadata": {
    "tags": []
   },
   "outputs": [
    {
     "ename": "NameError",
     "evalue": "name 'mobile_towers_data' is not defined",
     "output_type": "error",
     "traceback": [
      "\u001b[1;31m---------------------------------------------------------------------------\u001b[0m",
      "\u001b[1;31mNameError\u001b[0m                                 Traceback (most recent call last)",
      "\u001b[1;32m<ipython-input-8-3fc54145a089>\u001b[0m in \u001b[0;36m<module>\u001b[1;34m\u001b[0m\n\u001b[1;32m----> 1\u001b[1;33m \u001b[0mmobile_towers_data\u001b[0m\u001b[1;33m[\u001b[0m\u001b[1;33m:\u001b[0m\u001b[1;36m3\u001b[0m\u001b[1;33m]\u001b[0m\u001b[1;33m\u001b[0m\u001b[1;33m\u001b[0m\u001b[0m\n\u001b[0m",
      "\u001b[1;31mNameError\u001b[0m: name 'mobile_towers_data' is not defined"
     ]
    }
   ],
   "source": [
    "mobile_towers_data[:3]"
   ]
  },
  {
   "cell_type": "code",
   "execution_count": 26,
   "id": "eabdf8b7",
   "metadata": {
    "collapsed": true,
    "jupyter": {
     "outputs_hidden": true
    },
    "tags": []
   },
   "outputs": [
    {
     "ename": "NameError",
     "evalue": "name 'mobile_towers_data' is not defined",
     "output_type": "error",
     "traceback": [
      "\u001b[1;31m---------------------------------------------------------------------------\u001b[0m",
      "\u001b[1;31mNameError\u001b[0m                                 Traceback (most recent call last)",
      "\u001b[1;32m<ipython-input-26-1e4509611db6>\u001b[0m in \u001b[0;36m<module>\u001b[1;34m\u001b[0m\n\u001b[0;32m      4\u001b[0m         \u001b[1;32mreturn\u001b[0m \u001b[1;32mFalse\u001b[0m\u001b[1;33m\u001b[0m\u001b[1;33m\u001b[0m\u001b[0m\n\u001b[0;32m      5\u001b[0m     \u001b[1;32mreturn\u001b[0m \u001b[1;32mTrue\u001b[0m\u001b[1;33m\u001b[0m\u001b[1;33m\u001b[0m\u001b[0m\n\u001b[1;32m----> 6\u001b[1;33m \u001b[0mnon_empty_items_iterator\u001b[0m \u001b[1;33m=\u001b[0m \u001b[0mfilter\u001b[0m\u001b[1;33m(\u001b[0m\u001b[0mcheckIfFull\u001b[0m\u001b[1;33m,\u001b[0m \u001b[0mmobile_towers_data\u001b[0m\u001b[1;33m)\u001b[0m\u001b[1;33m\u001b[0m\u001b[1;33m\u001b[0m\u001b[0m\n\u001b[0m\u001b[0;32m      7\u001b[0m \u001b[0mnon_empty_numbers\u001b[0m \u001b[1;33m=\u001b[0m \u001b[0mlist\u001b[0m\u001b[1;33m(\u001b[0m\u001b[0mnon_empty_items_iterator\u001b[0m\u001b[1;33m)\u001b[0m\u001b[1;33m\u001b[0m\u001b[1;33m\u001b[0m\u001b[0m\n\u001b[0;32m      8\u001b[0m \u001b[0mmobile_towers_data\u001b[0m \u001b[1;33m=\u001b[0m \u001b[0mnon_empty_numbers\u001b[0m\u001b[1;33m\u001b[0m\u001b[1;33m\u001b[0m\u001b[0m\n",
      "\u001b[1;31mNameError\u001b[0m: name 'mobile_towers_data' is not defined"
     ]
    }
   ],
   "source": [
    "## Filter out items that are empty dictionaries\n",
    "def checkIfFull(item):\n",
    "    if item == dict():\n",
    "        return False  \n",
    "    return True \n",
    "non_empty_items_iterator = filter(checkIfFull, mobile_towers_data)\n",
    "non_empty_numbers = list(non_empty_items_iterator)\n",
    "mobile_towers_data = non_empty_numbers\n",
    "mobile_towers_data[:3]"
   ]
  },
  {
   "cell_type": "code",
   "execution_count": null,
   "id": "0d584b77",
   "metadata": {},
   "outputs": [],
   "source": [
    "# Remove unwanted keys from the 5 seperate dictionaries \n",
    "# (we currently have a list of 5 dictionaries, each dictionary having 2 subdictionaries, one of which is useless)\n",
    "new_mobile_towers_data = []\n",
    "for item in mobile_towers_data:\n",
    "    new_mobile_towers_data.append(item['features'])\n",
    "new_mobile_towers_data[:3]"
   ]
  },
  {
   "cell_type": "code",
   "execution_count": null,
   "id": "7d6f37e2",
   "metadata": {},
   "outputs": [],
   "source": [
    "#Flatten the list of lists produced\n",
    "flat_list = [item for sublist in new_mobile_towers_data for item in sublist]\n",
    "#flat_list[:3]\n",
    "print(len(flat_list), \"mobile towers in scraped data\")"
   ]
  },
  {
   "cell_type": "code",
   "execution_count": null,
   "id": "fe84c3fa",
   "metadata": {},
   "outputs": [],
   "source": []
  },
  {
   "cell_type": "code",
   "execution_count": null,
   "id": "947e3329",
   "metadata": {},
   "outputs": [],
   "source": []
  },
  {
   "cell_type": "code",
   "execution_count": null,
   "id": "9225d0d4",
   "metadata": {},
   "outputs": [],
   "source": []
  },
  {
   "cell_type": "code",
   "execution_count": null,
   "id": "632b2451",
   "metadata": {},
   "outputs": [],
   "source": []
  },
  {
   "cell_type": "code",
   "execution_count": null,
   "id": "d0d39a07",
   "metadata": {},
   "outputs": [],
   "source": []
  },
  {
   "cell_type": "code",
   "execution_count": 43,
   "id": "fd6c474b",
   "metadata": {},
   "outputs": [],
   "source": [
    "#Create and open csv file with the useful data retrieved\n",
    "import csv\n",
    "import os\n",
    "\n",
    "data_file = open('mobile_towers4.csv', 'w', newline='')\n",
    "csv_writer = csv.writer(data_file)\n",
    " \n",
    "count = 0\n",
    "for data in flat_list:\n",
    "    if count == 0:\n",
    "        header = data['properties'].keys()\n",
    "        csv_writer.writerow(header)\n",
    "        count += 1\n",
    "    csv_writer.writerow(data['properties'].values())\n",
    " \n",
    "os.startfile(\"mobile_towers4.csv\")\n",
    "data_file.close()"
   ]
  },
  {
   "cell_type": "code",
   "execution_count": 16,
   "id": "24477ad7",
   "metadata": {},
   "outputs": [],
   "source": [
    "os.remove(\"mobile_towers.csv\")"
   ]
  },
  {
   "cell_type": "code",
   "execution_count": null,
   "id": "5b039bdf",
   "metadata": {},
   "outputs": [],
   "source": []
  },
  {
   "cell_type": "code",
   "execution_count": null,
   "id": "e192f717",
   "metadata": {},
   "outputs": [],
   "source": []
  }
 ],
 "metadata": {
  "kernelspec": {
   "display_name": "Python 3",
   "language": "python",
   "name": "python3"
  },
  "language_info": {
   "codemirror_mode": {
    "name": "ipython",
    "version": 3
   },
   "file_extension": ".py",
   "mimetype": "text/x-python",
   "name": "python",
   "nbconvert_exporter": "python",
   "pygments_lexer": "ipython3",
   "version": "3.8.8"
  }
 },
 "nbformat": 4,
 "nbformat_minor": 5
}
